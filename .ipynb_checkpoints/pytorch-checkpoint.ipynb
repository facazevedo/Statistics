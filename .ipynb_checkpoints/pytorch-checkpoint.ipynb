{
 "cells": [
  {
   "cell_type": "code",
   "execution_count": 1,
   "id": "8165ebbd-4640-4801-96f2-da8266c9e089",
   "metadata": {
    "tags": []
   },
   "outputs": [],
   "source": [
    "import numpy as np\n",
    "import torch\n",
    "import time"
   ]
  },
  {
   "cell_type": "code",
   "execution_count": 3,
   "id": "b284d186-2174-4464-9dcc-2ffaaed47af2",
   "metadata": {
    "tags": []
   },
   "outputs": [
    {
     "name": "stdout",
     "output_type": "stream",
     "text": [
      "Time taken using NumPy (CPU): 1317.149209022522\n"
     ]
    },
    {
     "ename": "OutOfMemoryError",
     "evalue": "CUDA out of memory. Tried to allocate 37.25 GiB (GPU 0; 23.99 GiB total capacity; 74.51 GiB already allocated; 0 bytes free; 74.53 GiB reserved in total by PyTorch) If reserved memory is >> allocated memory try setting max_split_size_mb to avoid fragmentation.  See documentation for Memory Management and PYTORCH_CUDA_ALLOC_CONF",
     "output_type": "error",
     "traceback": [
      "\u001b[1;31m---------------------------------------------------------------------------\u001b[0m",
      "\u001b[1;31mOutOfMemoryError\u001b[0m                          Traceback (most recent call last)",
      "Cell \u001b[1;32mIn[3], line 23\u001b[0m\n\u001b[0;32m     21\u001b[0m \u001b[38;5;66;03m# GPU computation\u001b[39;00m\n\u001b[0;32m     22\u001b[0m start_time \u001b[38;5;241m=\u001b[39m time\u001b[38;5;241m.\u001b[39mtime()\n\u001b[1;32m---> 23\u001b[0m result_pytorch \u001b[38;5;241m=\u001b[39m \u001b[43mpytorch_multiply\u001b[49m\u001b[43m(\u001b[49m\u001b[43ma\u001b[49m\u001b[43m,\u001b[49m\u001b[43m \u001b[49m\u001b[43mb\u001b[49m\u001b[43m)\u001b[49m\n\u001b[0;32m     24\u001b[0m end_time \u001b[38;5;241m=\u001b[39m time\u001b[38;5;241m.\u001b[39mtime()\n\u001b[0;32m     25\u001b[0m \u001b[38;5;28mprint\u001b[39m(\u001b[38;5;124m\"\u001b[39m\u001b[38;5;124mTime taken using PyTorch (GPU):\u001b[39m\u001b[38;5;124m\"\u001b[39m, end_time \u001b[38;5;241m-\u001b[39m start_time)\n",
      "Cell \u001b[1;32mIn[3], line 9\u001b[0m, in \u001b[0;36mpytorch_multiply\u001b[1;34m(a, b)\u001b[0m\n\u001b[0;32m      7\u001b[0m a_torch \u001b[38;5;241m=\u001b[39m torch\u001b[38;5;241m.\u001b[39mtensor(a)\u001b[38;5;241m.\u001b[39mcuda()\n\u001b[0;32m      8\u001b[0m b_torch \u001b[38;5;241m=\u001b[39m torch\u001b[38;5;241m.\u001b[39mtensor(b)\u001b[38;5;241m.\u001b[39mcuda()\n\u001b[1;32m----> 9\u001b[0m \u001b[38;5;28;01mreturn\u001b[39;00m \u001b[43mtorch\u001b[49m\u001b[38;5;241;43m.\u001b[39;49m\u001b[43mmatmul\u001b[49m\u001b[43m(\u001b[49m\u001b[43ma_torch\u001b[49m\u001b[43m,\u001b[49m\u001b[43m \u001b[49m\u001b[43mb_torch\u001b[49m\u001b[43m)\u001b[49m\n",
      "\u001b[1;31mOutOfMemoryError\u001b[0m: CUDA out of memory. Tried to allocate 37.25 GiB (GPU 0; 23.99 GiB total capacity; 74.51 GiB already allocated; 0 bytes free; 74.53 GiB reserved in total by PyTorch) If reserved memory is >> allocated memory try setting max_split_size_mb to avoid fragmentation.  See documentation for Memory Management and PYTORCH_CUDA_ALLOC_CONF"
     ]
    }
   ],
   "source": [
    "# Function for CPU computation using NumPy\n",
    "def numpy_multiply(a, b):\n",
    "    return np.matmul(a, b)\n",
    "\n",
    "# Function for GPU computation using PyTorch\n",
    "def pytorch_multiply(a, b):\n",
    "    a_torch = torch.tensor(a).cuda()\n",
    "    b_torch = torch.tensor(b).cuda()\n",
    "    return torch.matmul(a_torch, b_torch)\n",
    "\n",
    "# Create random matrices\n",
    "n = 10000\n",
    "a = np.random.rand(n, n).astype(np.float32)\n",
    "b = np.random.rand(n, n).astype(np.float32)\n",
    "\n",
    "# CPU computation\n",
    "start_time = time.time()\n",
    "result_numpy = numpy_multiply(a, b)\n",
    "end_time = time.time()\n",
    "print(\"Time taken using NumPy (CPU):\", end_time - start_time)\n",
    "# GPU computation\n",
    "start_time = time.time()\n",
    "result_pytorch = pytorch_multiply(a, b)\n",
    "end_time = time.time()\n",
    "print(\"Time taken using PyTorch (GPU):\", end_time - start_time)\n",
    "\n",
    "# Verify results (convert PyTorch tensor to NumPy array and move it to CPU)\n",
    "result_pytorch_cpu = result_pytorch.cpu().numpy()\n",
    "assert np.allclose(result_numpy, result_pytorch_cpu, atol=1e-6), \"The results do not match!\"\n",
    "print(\"Results verified!\")"
   ]
  },
  {
   "cell_type": "code",
   "execution_count": null,
   "id": "0b49313b-cdaf-4e9c-9a6b-710c29a55b5f",
   "metadata": {},
   "outputs": [],
   "source": []
  }
 ],
 "metadata": {
  "kernelspec": {
   "display_name": "Python 3 (ipykernel)",
   "language": "python",
   "name": "python3"
  },
  "language_info": {
   "codemirror_mode": {
    "name": "ipython",
    "version": 3
   },
   "file_extension": ".py",
   "mimetype": "text/x-python",
   "name": "python",
   "nbconvert_exporter": "python",
   "pygments_lexer": "ipython3",
   "version": "3.9.17"
  }
 },
 "nbformat": 4,
 "nbformat_minor": 5
}
